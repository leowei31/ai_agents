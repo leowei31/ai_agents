{
 "cells": [
  {
   "cell_type": "markdown",
   "id": "fdb0612f-46be-4595-a98f-463092b38b4f",
   "metadata": {},
   "source": [
    "### 0. Install and import packages\n",
    "\n",
    "\n",
    "pip install crewai==0.28.8 crewai_tools==0.1.6 langchain_community==0.0.29 yfinance pandas numpy matplotlib requests python-dotenv\n"
   ]
  },
  {
   "cell_type": "code",
   "execution_count": 7,
   "id": "5549579d-da70-4269-a115-803fa14902f9",
   "metadata": {},
   "outputs": [],
   "source": [
    "# Warning control\n",
    "import warnings\n",
    "warnings.filterwarnings('ignore')"
   ]
  },
  {
   "cell_type": "code",
   "execution_count": 8,
   "id": "db1ef764-aea3-4d42-b718-4eb01db890a0",
   "metadata": {},
   "outputs": [],
   "source": [
    "from crewai import Agent, Task, Crew"
   ]
  },
  {
   "cell_type": "code",
   "execution_count": null,
   "id": "06111fcc-22d4-45d9-904e-8f80c1ed098b",
   "metadata": {},
   "outputs": [],
   "source": []
  }
 ],
 "metadata": {
  "kernelspec": {
   "display_name": "Python 3 (ipykernel)",
   "language": "python",
   "name": "python3"
  },
  "language_info": {
   "codemirror_mode": {
    "name": "ipython",
    "version": 3
   },
   "file_extension": ".py",
   "mimetype": "text/x-python",
   "name": "python",
   "nbconvert_exporter": "python",
   "pygments_lexer": "ipython3",
   "version": "3.11.9"
  }
 },
 "nbformat": 4,
 "nbformat_minor": 5
}
